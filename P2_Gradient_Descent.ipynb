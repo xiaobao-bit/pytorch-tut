{
 "cells": [
  {
   "cell_type": "markdown",
   "id": "4dfce068-90d9-4f30-92e4-e9b5c4f92a95",
   "metadata": {},
   "source": [
    "## Gradient Descent"
   ]
  },
  {
   "cell_type": "markdown",
   "id": "3a4c0445-4cec-4e50-91a6-798e066f960d",
   "metadata": {},
   "source": [
    "Before entering into the second part, let's have a recap of the first part:  \n",
    "+ These are the things done in the first part:\n",
    "    + create a linear model\n",
    "    + iterate over the weight from 0 to 5\n",
    "    + calculate the loss using the loss function define in the model\n",
    "    + plot the loss vs. weight\n",
    "    + determine the opt weight using your EYES...\n",
    "\n",
    "Everything seems goood, except the last step, i.e. *determine the opt weight using your EYES*, which seems too stupid for an engineer and not is not realistic in real case (since in reality the cost function will be way more than 1 dim).  \n",
    "Therefore, in this part we will use gradient descent, i.e. go to the opposite direction \n",
    "of the gra, and the opt (min) can be found after several iterations.."
   ]
  },
  {
   "cell_type": "code",
   "execution_count": 5,
   "id": "830d0b18-8627-4e78-9858-405fd40ba770",
   "metadata": {},
   "outputs": [],
   "source": [
    "import numpy as np\n",
    "import matplotlib.pyplot as plt"
   ]
  },
  {
   "cell_type": "markdown",
   "id": "91c0445e-e32c-4a9e-bf98-2be33a0433af",
   "metadata": {},
   "source": [
    "### Step 1: Define the model:"
   ]
  },
  {
   "cell_type": "code",
   "execution_count": 6,
   "id": "77b5c58e-1708-4168-a933-2f7b614695f3",
   "metadata": {},
   "outputs": [],
   "source": [
    "# Define our model:\n",
    "class GradDescentModel:\n",
    "    def __init__(self, weight):\n",
    "        self.weight = weight\n",
    "\n",
    "    def forward(self, input_x):\n",
    "        return input_x * self.weight\n",
    "\n",
    "    # for traditional grad descent, we will not use loss function\n",
    "    # we use cost function instead.\n",
    "    # Again\n",
    "    # Differences? -> loss refers to single sample\n",
    "    #              -> cost refers to average error over all samples\n",
    "    def cost_function(self, input_x, true_output_y):\n",
    "        loss = 0\n",
    "        for x, y in zip(input_x, true_output_y):\n",
    "            output_prediction = self.forward(x)\n",
    "            # sum up all the losses for later averaging\n",
    "            loss += (output_prediction - y) ** 2\n",
    "        return loss / len(input_x)\n",
    "\n",
    "    def grad(self, input_x, output_y):\n",
    "        # reset grad after using it\n",
    "        grad = 0\n",
    "        # accumulate all the grad of the sample and calc. its average\n",
    "        for x, y in zip(input_x, output_y):\n",
    "            grad += 2 * x * (x * self.weight - y)\n",
    "        return grad / len(input_x)\n",
    "\n",
    "# Define initial value in here:\n",
    "weight = 1\n",
    "lr = 0.01   # can try play with learning rate here\n",
    "\n",
    "# Training set\n",
    "x = np.arange(1.0, 10.0, 1.0)\n",
    "y = 3 * x\n",
    "\n",
    "# Initialize some data for plotting\n",
    "epoch_list = []\n",
    "cost_list = []"
   ]
  },
  {
   "cell_type": "markdown",
   "id": "61ac6e05-a0bf-4c2a-8d69-6904c4848016",
   "metadata": {},
   "source": [
    "### Step 2: Iterating and trying to find opt weight using GD:"
   ]
  },
  {
   "cell_type": "markdown",
   "id": "29c0e1d6-b8d7-4cb0-b44b-c45141c993c1",
   "metadata": {},
   "source": [
    "To find the opt weight, we go to the opposite direction of the grad:\n",
    "$$\n",
    "\\omega_n=\\omega_{n-1}-\\alpha\\cdot \\frac{\\partial{cost(\\omega)}}{\\partial{\\omega}}\\\\\n",
    "$$\n",
    "$$\n",
    "\\frac{\\partial cost(\\omega)}{\\partial \\omega} = \\frac{\\partial}{\\partial \\omega} \\frac{1}{N} \\sum_{n=1}^{N} (x_n \\cdot \\omega - y_n)^2\\\\\n",
    "= \\frac{1}{N} \\sum_{n=1}^{N} \\frac{\\partial}{\\partial \\omega} (x_n \\cdot \\omega - y_n)^2\\\\\n",
    "= \\frac{1}{N} \\sum_{n=1}^{N} 2 \\cdot (x_n \\cdot \\omega - y_n) \\frac{\\partial (x_n \\cdot \\omega - y_n)}{\\partial \\omega}\\\\\n",
    "= \\frac{1}{N} \\sum_{n=1}^{N} 2 \\cdot x_n \\cdot (x_n \\cdot \\omega - y_n)\n",
    "$$"
   ]
  },
  {
   "cell_type": "markdown",
   "id": "7008a3e1-350b-4257-802f-8e8a4707ce92",
   "metadata": {},
   "source": [
    "Therefore we can use the following equation to update the weight:\n",
    "$$\n",
    "\\omega = \\omega - \\alpha \\frac{1}{N} \\sum_{n=1}^{N} 2 \\cdot x_n \\cdot (x_n \\cdot \\omega - y_n)\n",
    "$$\n",
    "where $\\alpha$ is known as **learning rate**."
   ]
  },
  {
   "cell_type": "code",
   "execution_count": 7,
   "id": "dc7db88c-d907-4d24-96df-72621f7997fd",
   "metadata": {},
   "outputs": [
    {
     "name": "stdout",
     "output_type": "stream",
     "text": [
      "Before starting, the weight is:  1\n",
      "Epoch =  0 \t | Weight =  2.2666666666666666 \t | Cost =  126.66666666666667\n",
      "Epoch =  1 \t | Weight =  2.7311111111111113 \t | Cost =  17.029629629629635\n",
      "Epoch =  2 \t | Weight =  2.9014074074074077 \t | Cost =  2.289539094650203\n",
      "Epoch =  3 \t | Weight =  2.9638493827160497 \t | Cost =  0.3078158116140817\n",
      "Epoch =  4 \t | Weight =  2.9867447736625516 \t | Cost =  0.04138412578367042\n",
      "Epoch =  5 \t | Weight =  2.995139750342936 \t | Cost =  0.00556386579980449\n",
      "Epoch =  6 \t | Weight =  2.9982179084590763 \t | Cost =  0.0007480308464181112\n",
      "Epoch =  7 \t | Weight =  2.9993465664349945 \t | Cost =  0.00010056859157400222\n",
      "Epoch =  8 \t | Weight =  2.9997604076928313 \t | Cost =  1.3520888422731728e-05\n",
      "Epoch =  9 \t | Weight =  2.9999121494873715 \t | Cost =  1.817808332390302e-06\n",
      "Epoch =  10 \t | Weight =  2.9999677881453697 \t | Cost =  2.443942313545693e-07\n",
      "Epoch =  11 \t | Weight =  2.9999881889866353 \t | Cost =  3.285744665958554e-08\n",
      "Epoch =  12 \t | Weight =  2.9999956692950995 \t | Cost =  4.417501162161811e-09\n",
      "Epoch =  13 \t | Weight =  2.99999841207487 \t | Cost =  5.939084896064005e-10\n",
      "Epoch =  14 \t | Weight =  2.999999417760786 \t | Cost =  7.984769692406192e-11\n",
      "Epoch =  15 \t | Weight =  2.999999786512288 \t | Cost =  1.0735079247492881e-11\n",
      "Epoch =  16 \t | Weight =  2.999999921721172 \t | Cost =  1.4432717662364667e-12\n",
      "Epoch =  17 \t | Weight =  2.999999971297763 \t | Cost =  1.940398716968162e-13\n",
      "Epoch =  18 \t | Weight =  2.9999999894758465 \t | Cost =  2.608758302548214e-14\n",
      "Epoch =  19 \t | Weight =  2.9999999961411437 \t | Cost =  3.507330575670751e-15\n",
      "Epoch =  20 \t | Weight =  2.999999998585086 \t | Cost =  4.715411257459517e-16\n",
      "Epoch =  21 \t | Weight =  2.999999999481198 \t | Cost =  6.339608050394447e-17\n",
      "Epoch =  22 \t | Weight =  2.9999999998097726 \t | Cost =  8.523253559027638e-18\n",
      "Epoch =  23 \t | Weight =  2.99999999993025 \t | Cost =  1.1459048567879332e-18\n",
      "Epoch =  24 \t | Weight =  2.999999999974425 \t | Cost =  1.540601848389454e-19\n",
      "Epoch =  25 \t | Weight =  2.9999999999906226 \t | Cost =  2.0712670823267233e-20\n",
      "Epoch =  26 \t | Weight =  2.9999999999965614 \t | Cost =  2.784628439263083e-21\n",
      "Epoch =  27 \t | Weight =  2.9999999999987392 \t | Cost =  3.7441924458792937e-22\n",
      "Epoch =  28 \t | Weight =  2.9999999999995377 \t | Cost =  5.0334411035362046e-23\n",
      "Epoch =  29 \t | Weight =  2.9999999999998304 \t | Cost =  6.768114287441828e-24\n",
      "Epoch =  30 \t | Weight =  2.999999999999938 \t | Cost =  9.1104993741341e-25\n",
      "Epoch =  31 \t | Weight =  2.9999999999999774 \t | Cost =  1.2245470301503428e-25\n",
      "Epoch =  32 \t | Weight =  2.9999999999999916 \t | Cost =  1.6208396327532287e-26\n",
      "Epoch =  33 \t | Weight =  2.999999999999997 \t | Cost =  2.2417016518059646e-27\n",
      "Epoch =  34 \t | Weight =  2.9999999999999987 \t | Cost =  3.0373336131301235e-28\n",
      "Epoch =  35 \t | Weight =  2.9999999999999996 \t | Cost =  5.462861768655507e-29\n",
      "Epoch =  36 \t | Weight =  3.0 \t | Cost =  6.771056103147018e-30\n",
      "Epoch =  37 \t | Weight =  3.0 \t | Cost =  0.0\n",
      "Epoch =  38 \t | Weight =  3.0 \t | Cost =  0.0\n",
      "Epoch =  39 \t | Weight =  3.0 \t | Cost =  0.0\n",
      "Epoch =  40 \t | Weight =  3.0 \t | Cost =  0.0\n",
      "Epoch =  41 \t | Weight =  3.0 \t | Cost =  0.0\n",
      "Epoch =  42 \t | Weight =  3.0 \t | Cost =  0.0\n",
      "Epoch =  43 \t | Weight =  3.0 \t | Cost =  0.0\n",
      "Epoch =  44 \t | Weight =  3.0 \t | Cost =  0.0\n",
      "Epoch =  45 \t | Weight =  3.0 \t | Cost =  0.0\n",
      "Epoch =  46 \t | Weight =  3.0 \t | Cost =  0.0\n",
      "Epoch =  47 \t | Weight =  3.0 \t | Cost =  0.0\n",
      "Epoch =  48 \t | Weight =  3.0 \t | Cost =  0.0\n",
      "Epoch =  49 \t | Weight =  3.0 \t | Cost =  0.0\n",
      "Epoch =  50 \t | Weight =  3.0 \t | Cost =  0.0\n",
      "Epoch =  51 \t | Weight =  3.0 \t | Cost =  0.0\n",
      "Epoch =  52 \t | Weight =  3.0 \t | Cost =  0.0\n",
      "Epoch =  53 \t | Weight =  3.0 \t | Cost =  0.0\n",
      "Epoch =  54 \t | Weight =  3.0 \t | Cost =  0.0\n",
      "Epoch =  55 \t | Weight =  3.0 \t | Cost =  0.0\n",
      "Epoch =  56 \t | Weight =  3.0 \t | Cost =  0.0\n",
      "Epoch =  57 \t | Weight =  3.0 \t | Cost =  0.0\n",
      "Epoch =  58 \t | Weight =  3.0 \t | Cost =  0.0\n",
      "Epoch =  59 \t | Weight =  3.0 \t | Cost =  0.0\n",
      "Epoch =  60 \t | Weight =  3.0 \t | Cost =  0.0\n",
      "Epoch =  61 \t | Weight =  3.0 \t | Cost =  0.0\n",
      "Epoch =  62 \t | Weight =  3.0 \t | Cost =  0.0\n",
      "Epoch =  63 \t | Weight =  3.0 \t | Cost =  0.0\n",
      "Epoch =  64 \t | Weight =  3.0 \t | Cost =  0.0\n",
      "Epoch =  65 \t | Weight =  3.0 \t | Cost =  0.0\n",
      "Epoch =  66 \t | Weight =  3.0 \t | Cost =  0.0\n",
      "Epoch =  67 \t | Weight =  3.0 \t | Cost =  0.0\n",
      "Epoch =  68 \t | Weight =  3.0 \t | Cost =  0.0\n",
      "Epoch =  69 \t | Weight =  3.0 \t | Cost =  0.0\n",
      "Epoch =  70 \t | Weight =  3.0 \t | Cost =  0.0\n",
      "Epoch =  71 \t | Weight =  3.0 \t | Cost =  0.0\n",
      "Epoch =  72 \t | Weight =  3.0 \t | Cost =  0.0\n",
      "Epoch =  73 \t | Weight =  3.0 \t | Cost =  0.0\n",
      "Epoch =  74 \t | Weight =  3.0 \t | Cost =  0.0\n",
      "Epoch =  75 \t | Weight =  3.0 \t | Cost =  0.0\n",
      "Epoch =  76 \t | Weight =  3.0 \t | Cost =  0.0\n",
      "Epoch =  77 \t | Weight =  3.0 \t | Cost =  0.0\n",
      "Epoch =  78 \t | Weight =  3.0 \t | Cost =  0.0\n",
      "Epoch =  79 \t | Weight =  3.0 \t | Cost =  0.0\n",
      "Epoch =  80 \t | Weight =  3.0 \t | Cost =  0.0\n",
      "Epoch =  81 \t | Weight =  3.0 \t | Cost =  0.0\n",
      "Epoch =  82 \t | Weight =  3.0 \t | Cost =  0.0\n",
      "Epoch =  83 \t | Weight =  3.0 \t | Cost =  0.0\n",
      "Epoch =  84 \t | Weight =  3.0 \t | Cost =  0.0\n",
      "Epoch =  85 \t | Weight =  3.0 \t | Cost =  0.0\n",
      "Epoch =  86 \t | Weight =  3.0 \t | Cost =  0.0\n",
      "Epoch =  87 \t | Weight =  3.0 \t | Cost =  0.0\n",
      "Epoch =  88 \t | Weight =  3.0 \t | Cost =  0.0\n",
      "Epoch =  89 \t | Weight =  3.0 \t | Cost =  0.0\n",
      "Epoch =  90 \t | Weight =  3.0 \t | Cost =  0.0\n",
      "Epoch =  91 \t | Weight =  3.0 \t | Cost =  0.0\n",
      "Epoch =  92 \t | Weight =  3.0 \t | Cost =  0.0\n",
      "Epoch =  93 \t | Weight =  3.0 \t | Cost =  0.0\n",
      "Epoch =  94 \t | Weight =  3.0 \t | Cost =  0.0\n",
      "Epoch =  95 \t | Weight =  3.0 \t | Cost =  0.0\n",
      "Epoch =  96 \t | Weight =  3.0 \t | Cost =  0.0\n",
      "Epoch =  97 \t | Weight =  3.0 \t | Cost =  0.0\n",
      "Epoch =  98 \t | Weight =  3.0 \t | Cost =  0.0\n",
      "Epoch =  99 \t | Weight =  3.0 \t | Cost =  0.0\n",
      "After starting, the weight is:  3.0\n"
     ]
    }
   ],
   "source": [
    "print('Before starting, the weight is: ', weight)\n",
    "\n",
    "for epoch in range(100):\n",
    "    model = GradDescentModel(weight)\n",
    "    cost_validation = model.cost_function(x, y)\n",
    "    grad_validation = model.grad(x, y)\n",
    "    weight -= lr * grad_validation\n",
    "    print('Epoch = ', epoch, '\\t | Weight = ', weight, '\\t | Cost = ', cost_validation)\n",
    "    cost_list.append(cost_validation)\n",
    "    epoch_list.append(epoch)\n",
    "print('After starting, the weight is: ', weight)\n"
   ]
  },
  {
   "cell_type": "markdown",
   "id": "23cd668b-a80e-41af-906c-9197804b66c0",
   "metadata": {},
   "source": [
    "### Step 3: Plotting the cost vs. epoch"
   ]
  },
  {
   "cell_type": "code",
   "execution_count": 8,
   "id": "7d7fd804-5896-4c16-8498-44b67419a6d3",
   "metadata": {},
   "outputs": [
    {
     "data": {
      "image/png": "[encoded data removed]",
      "text/plain": [
       "<Figure size 640x480 with 1 Axes>"
      ]
     },
     "metadata": {},
     "output_type": "display_data"
    }
   ],
   "source": [
    "plt.plot(epoch_list, cost_list)\n",
    "plt.ylabel('Cost')\n",
    "plt.xlabel('Epoch')\n",
    "plt.show()"
   ]
  }
 ],
 "metadata": {
  "kernelspec": {
   "display_name": "Python 3 (ipykernel)",
   "language": "python",
   "name": "python3"
  },
  "language_info": {
   "codemirror_mode": {
    "name": "ipython",
    "version": 3
   },
   "file_extension": ".py",
   "mimetype": "text/x-python",
   "name": "python",
   "nbconvert_exporter": "python",
   "pygments_lexer": "ipython3",
   "version": "3.10.15"
  }
 },
 "nbformat": 4,
 "nbformat_minor": 5
}
