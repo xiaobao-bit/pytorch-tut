{
 "cells": [
  {
   "cell_type": "markdown",
   "id": "6e3ddab0-f11c-438d-b538-2e0ac40cd162",
   "metadata": {},
   "source": [
    "## Softmax Classifier"
   ]
  },
  {
   "cell_type": "markdown",
   "id": "1481f1fc-6192-4abf-946b-3b822b601ab2",
   "metadata": {},
   "source": [
    "In previous part, we have discussed about the binary classifier problems, which is done using *logistic regression*. However, we have to be aware that in real life case, the classification is always multi-class. In this case, we will use the **softmax classifier** to solve it.  \n",
    "\n",
    "We will use MNIST 0-9 dataset as example in here ('hello world' in deep learning field).\n",
    "\n",
    "Since the outputs of this model should be *probability* as well, which means that the output should follow the rules below:\n",
    "$$\n",
    "\\forall n \\Rightarrow P(\\hat{y}=n) \\geq 0\n",
    "$$\n",
    "Also, it is mandetoray that:\n",
    "$$\n",
    "\\sum_{n=0}^9 P(\\hat{y}=n)=1\n",
    "$$\n",
    "To achieve, we can use **softmax function**, which is shown as below (assume $Z^l \\in \\mathbb{R}^K$ is the output of the last linear layer):\n",
    "$$\n",
    " P(y = i) = \\frac{e^{z_i}}{\\sum_{j=0}^{K-1} e^{z_j}}, \\; i \\in \\{0, \\ldots, K - 1\\} \n",
    "$$"
   ]
  },
  {
   "cell_type": "code",
   "execution_count": 6,
   "id": "4ed5ca19-7797-4d88-9d15-394b8d23284e",
   "metadata": {},
   "outputs": [],
   "source": [
    "import torch\n",
    "from torchvision import transforms\n",
    "from torchvision import datasets\n",
    "from torch.utils.data import DataLoader\n",
    "import torch.nn.functional as F         # for using function relu()\n",
    "import torch.optim as optim             # for using opt"
   ]
  },
  {
   "cell_type": "markdown",
   "id": "47e25079-bfec-40e8-af4f-a5d0eba4f97f",
   "metadata": {},
   "source": [
    "### Step 1: Prepare Dataset"
   ]
  },
  {
   "cell_type": "markdown",
   "id": "b24519bc-92ac-48bb-9a26-2b570cebf06e",
   "metadata": {},
   "source": [
    "We have to convert the img from PIL img to Tensor:\n",
    "$$\n",
    "\\mathbb{Z}^{28\\times 28},pixel\\in\\{0,\\cdots,255\\}\\Rightarrow \\mathbb{R}^{1\\times28\\times28},pixel\\in [0,1]\n",
    "$$\n",
    "Therefore we need to convert the initial pixel value to *Tensor* and *Normalized Value*."
   ]
  },
  {
   "cell_type": "code",
   "execution_count": 7,
   "id": "4f2f9267-bfdb-4aa4-8ba6-a676c3720b14",
   "metadata": {},
   "outputs": [],
   "source": [
    "batch_size = 64\n",
    "transform = transforms.Compose([transforms.ToTensor(), transforms.Normalize((0.1307,), (0.3081,))]) # 归一化,均值和方差\n",
    " \n",
    "train_dataset = datasets.MNIST(root='../dataset/mnist/', \n",
    "                               train=True, \n",
    "                               download=False, \n",
    "                               transform=transform)\n",
    "train_loader = DataLoader(train_dataset, \n",
    "                          shuffle=True, \n",
    "                          batch_size=batch_size)\n",
    "\n",
    "test_dataset = datasets.MNIST(root='../dataset/mnist/', \n",
    "                              train=False, \n",
    "                              download=False, \n",
    "                              transform=transform)\n",
    "test_loader = DataLoader(test_dataset, \n",
    "                         shuffle=False, \n",
    "                         batch_size=batch_size)"
   ]
  },
  {
   "cell_type": "markdown",
   "id": "c938e3cb-123d-448f-a419-6418b1be7519",
   "metadata": {},
   "source": [
    "### Step 2: Build Network"
   ]
  },
  {
   "cell_type": "code",
   "execution_count": 8,
   "id": "3c779805-0e55-425e-bc9a-9ee789e82d86",
   "metadata": {},
   "outputs": [],
   "source": [
    "class Net(torch.nn.Module):\n",
    "    def __init__(self):\n",
    "        super(Net, self).__init__()\n",
    "        self.l1 = torch.nn.Linear(784, 512)\n",
    "        self.l2 = torch.nn.Linear(512, 256)\n",
    "        self.l3 = torch.nn.Linear(256, 128)\n",
    "        self.l4 = torch.nn.Linear(128, 64)\n",
    "        self.l5 = torch.nn.Linear(64, 10)\n",
    " \n",
    "    def forward(self, x):\n",
    "        x = x.view(-1, 784)  # -1其实就是自动获取mini_batch\n",
    "        x = F.relu(self.l1(x))\n",
    "        x = F.relu(self.l2(x))\n",
    "        x = F.relu(self.l3(x))\n",
    "        x = F.relu(self.l4(x))\n",
    "        return self.l5(x)  # 最后一层不做激活，不进行非线性变换\n",
    " \n",
    " \n",
    "model = Net()"
   ]
  },
  {
   "cell_type": "markdown",
   "id": "e3118588-a649-406f-a4dd-64e24fb339b2",
   "metadata": {},
   "source": [
    "### Step 3: Build Loss Function and Opt"
   ]
  },
  {
   "cell_type": "markdown",
   "id": "50634eef-b8a4-46c2-8cf4-45a4d937daf2",
   "metadata": {},
   "source": [
    "Keep in mind that the **softmax** has been included in the **CrossEntropyLoss()** already."
   ]
  },
  {
   "cell_type": "code",
   "execution_count": 9,
   "id": "f5ce615b-3780-423f-96c4-187436188116",
   "metadata": {},
   "outputs": [],
   "source": [
    "criterion = torch.nn.CrossEntropyLoss()\n",
    "optimizer = optim.SGD(model.parameters(), lr=0.01, momentum=0.5)"
   ]
  },
  {
   "cell_type": "markdown",
   "id": "bfa07159-73bc-4e6f-ba2c-49feabc96a78",
   "metadata": {},
   "source": [
    "### Step 4: Training and Testing"
   ]
  },
  {
   "cell_type": "code",
   "execution_count": 10,
   "id": "52172c50-d881-4e4d-bb44-975de27e4904",
   "metadata": {},
   "outputs": [
    {
     "name": "stdout",
     "output_type": "stream",
     "text": [
      "[1,   300] loss: 2.140\n",
      "[1,   600] loss: 0.775\n",
      "[1,   900] loss: 0.440\n",
      "accuracy on test set: 89 % \n",
      "[2,   300] loss: 0.317\n",
      "[2,   600] loss: 0.273\n",
      "[2,   900] loss: 0.223\n",
      "accuracy on test set: 94 % \n",
      "[3,   300] loss: 0.188\n",
      "[3,   600] loss: 0.172\n",
      "[3,   900] loss: 0.158\n",
      "accuracy on test set: 95 % \n",
      "[4,   300] loss: 0.133\n",
      "[4,   600] loss: 0.128\n",
      "[4,   900] loss: 0.117\n",
      "accuracy on test set: 96 % \n",
      "[5,   300] loss: 0.096\n",
      "[5,   600] loss: 0.097\n",
      "[5,   900] loss: 0.098\n",
      "accuracy on test set: 97 % \n",
      "[6,   300] loss: 0.079\n",
      "[6,   600] loss: 0.077\n",
      "[6,   900] loss: 0.076\n",
      "accuracy on test set: 96 % \n",
      "[7,   300] loss: 0.059\n",
      "[7,   600] loss: 0.063\n",
      "[7,   900] loss: 0.065\n",
      "accuracy on test set: 97 % \n",
      "[8,   300] loss: 0.050\n",
      "[8,   600] loss: 0.049\n",
      "[8,   900] loss: 0.052\n",
      "accuracy on test set: 97 % \n",
      "[9,   300] loss: 0.039\n",
      "[9,   600] loss: 0.039\n",
      "[9,   900] loss: 0.044\n",
      "accuracy on test set: 97 % \n",
      "[10,   300] loss: 0.031\n",
      "[10,   600] loss: 0.029\n",
      "[10,   900] loss: 0.034\n",
      "accuracy on test set: 97 % \n"
     ]
    }
   ],
   "source": [
    "def train(epoch):\n",
    "    running_loss = 0.0\n",
    "    for batch_idx, data in enumerate(train_loader, 0):\n",
    "        # 获得一个批次的数据和标签\n",
    "        inputs, target = data\n",
    "        optimizer.zero_grad()\n",
    "        # 获得模型预测结果(64, 10)\n",
    "        outputs = model(inputs)\n",
    "        # 交叉熵代价函数outputs(64,10),target（64）\n",
    "        loss = criterion(outputs, target)\n",
    "        loss.backward()\n",
    "        optimizer.step()\n",
    " \n",
    "        running_loss += loss.item()\n",
    "        if batch_idx % 300 == 299:\n",
    "            print('[%d, %5d] loss: %.3f' % (epoch+1, batch_idx+1, running_loss/300))\n",
    "            running_loss = 0.0\n",
    " \n",
    " \n",
    "def test():\n",
    "    correct = 0\n",
    "    total = 0\n",
    "    with torch.no_grad():\n",
    "        for data in test_loader:\n",
    "            images, labels = data\n",
    "            outputs = model(images)\n",
    "            _, predicted = torch.max(outputs.data, dim=1) # dim = 1 列是第0个维度，行是第1个维度\n",
    "            total += labels.size(0)\n",
    "            correct += (predicted == labels).sum().item() # 张量之间的比较运算\n",
    "    print('accuracy on test set: %d %% ' % (100*correct/total))\n",
    "\n",
    "if __name__ == '__main__':\n",
    "    for epoch in range(10):\n",
    "        train(epoch)\n",
    "        test()"
   ]
  }
 ],
 "metadata": {
  "kernelspec": {
   "display_name": "Python 3 (ipykernel)",
   "language": "python",
   "name": "python3"
  },
  "language_info": {
   "codemirror_mode": {
    "name": "ipython",
    "version": 3
   },
   "file_extension": ".py",
   "mimetype": "text/x-python",
   "name": "python",
   "nbconvert_exporter": "python",
   "pygments_lexer": "ipython3",
   "version": "3.10.15"
  }
 },
 "nbformat": 4,
 "nbformat_minor": 5
}
